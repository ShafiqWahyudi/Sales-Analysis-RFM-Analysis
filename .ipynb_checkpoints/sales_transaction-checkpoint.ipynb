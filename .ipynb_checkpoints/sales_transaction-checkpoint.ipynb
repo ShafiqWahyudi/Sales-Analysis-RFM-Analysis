{
 "cells": [
  {
   "cell_type": "code",
   "execution_count": 1,
   "id": "d44f877d-de06-4721-8172-2ce76a4d5ea4",
   "metadata": {
    "tags": []
   },
   "outputs": [],
   "source": [
    "import pandas as pd\n",
    "import numpy as np\n",
    "import matplotlib.pyplot as plt\n",
    "import seaborn as sns\n",
    "import regex as re\n",
    "pd.set_option('display.max_columns', None)\n",
    "pd.set_option('display.max_rows', None)"
   ]
  },
  {
   "cell_type": "code",
   "execution_count": 2,
   "id": "9c57e0f2-2da2-4331-96e7-84ead116e20e",
   "metadata": {
    "tags": []
   },
   "outputs": [
    {
     "data": {
      "text/html": [
       "<div>\n",
       "<style scoped>\n",
       "    .dataframe tbody tr th:only-of-type {\n",
       "        vertical-align: middle;\n",
       "    }\n",
       "\n",
       "    .dataframe tbody tr th {\n",
       "        vertical-align: top;\n",
       "    }\n",
       "\n",
       "    .dataframe thead th {\n",
       "        text-align: right;\n",
       "    }\n",
       "</style>\n",
       "<table border=\"1\" class=\"dataframe\">\n",
       "  <thead>\n",
       "    <tr style=\"text-align: right;\">\n",
       "      <th></th>\n",
       "      <th>TransactionNo</th>\n",
       "      <th>Date</th>\n",
       "      <th>ProductNo</th>\n",
       "      <th>ProductName</th>\n",
       "      <th>Price</th>\n",
       "      <th>Quantity</th>\n",
       "      <th>CustomerNo</th>\n",
       "      <th>Country</th>\n",
       "    </tr>\n",
       "  </thead>\n",
       "  <tbody>\n",
       "    <tr>\n",
       "      <th>0</th>\n",
       "      <td>581482</td>\n",
       "      <td>12/9/2019</td>\n",
       "      <td>22485</td>\n",
       "      <td>Set Of 2 Wooden Market Crates</td>\n",
       "      <td>21.47</td>\n",
       "      <td>12</td>\n",
       "      <td>17490.0</td>\n",
       "      <td>United Kingdom</td>\n",
       "    </tr>\n",
       "    <tr>\n",
       "      <th>1</th>\n",
       "      <td>581475</td>\n",
       "      <td>12/9/2019</td>\n",
       "      <td>22596</td>\n",
       "      <td>Christmas Star Wish List Chalkboard</td>\n",
       "      <td>10.65</td>\n",
       "      <td>36</td>\n",
       "      <td>13069.0</td>\n",
       "      <td>United Kingdom</td>\n",
       "    </tr>\n",
       "    <tr>\n",
       "      <th>2</th>\n",
       "      <td>581475</td>\n",
       "      <td>12/9/2019</td>\n",
       "      <td>23235</td>\n",
       "      <td>Storage Tin Vintage Leaf</td>\n",
       "      <td>11.53</td>\n",
       "      <td>12</td>\n",
       "      <td>13069.0</td>\n",
       "      <td>United Kingdom</td>\n",
       "    </tr>\n",
       "    <tr>\n",
       "      <th>3</th>\n",
       "      <td>581475</td>\n",
       "      <td>12/9/2019</td>\n",
       "      <td>23272</td>\n",
       "      <td>Tree T-Light Holder Willie Winkie</td>\n",
       "      <td>10.65</td>\n",
       "      <td>12</td>\n",
       "      <td>13069.0</td>\n",
       "      <td>United Kingdom</td>\n",
       "    </tr>\n",
       "    <tr>\n",
       "      <th>4</th>\n",
       "      <td>581475</td>\n",
       "      <td>12/9/2019</td>\n",
       "      <td>23239</td>\n",
       "      <td>Set Of 4 Knick Knack Tins Poppies</td>\n",
       "      <td>11.94</td>\n",
       "      <td>6</td>\n",
       "      <td>13069.0</td>\n",
       "      <td>United Kingdom</td>\n",
       "    </tr>\n",
       "  </tbody>\n",
       "</table>\n",
       "</div>"
      ],
      "text/plain": [
       "  TransactionNo       Date ProductNo                          ProductName  \\\n",
       "0        581482  12/9/2019     22485        Set Of 2 Wooden Market Crates   \n",
       "1        581475  12/9/2019     22596  Christmas Star Wish List Chalkboard   \n",
       "2        581475  12/9/2019     23235             Storage Tin Vintage Leaf   \n",
       "3        581475  12/9/2019     23272    Tree T-Light Holder Willie Winkie   \n",
       "4        581475  12/9/2019     23239    Set Of 4 Knick Knack Tins Poppies   \n",
       "\n",
       "   Price  Quantity  CustomerNo         Country  \n",
       "0  21.47        12     17490.0  United Kingdom  \n",
       "1  10.65        36     13069.0  United Kingdom  \n",
       "2  11.53        12     13069.0  United Kingdom  \n",
       "3  10.65        12     13069.0  United Kingdom  \n",
       "4  11.94         6     13069.0  United Kingdom  "
      ]
     },
     "execution_count": 2,
     "metadata": {},
     "output_type": "execute_result"
    }
   ],
   "source": [
    "df = pd.read_csv('Sales Transaction v.4a.csv')\n",
    "df.head()"
   ]
  },
  {
   "cell_type": "code",
   "execution_count": 3,
   "id": "b335db0a-61b8-42d2-bf2e-9e41fb5f003d",
   "metadata": {
    "tags": []
   },
   "outputs": [
    {
     "data": {
      "text/plain": [
       "(536350, 8)"
      ]
     },
     "execution_count": 3,
     "metadata": {},
     "output_type": "execute_result"
    }
   ],
   "source": [
    "df.shape\n"
   ]
  },
  {
   "cell_type": "code",
   "execution_count": 4,
   "id": "9de8ca4e",
   "metadata": {
    "tags": []
   },
   "outputs": [
    {
     "data": {
      "text/plain": [
       "Index(['TransactionNo', 'Date', 'ProductNo', 'ProductName', 'Price',\n",
       "       'Quantity', 'CustomerNo', 'Country'],\n",
       "      dtype='object')"
      ]
     },
     "execution_count": 4,
     "metadata": {},
     "output_type": "execute_result"
    }
   ],
   "source": [
    "df.columns"
   ]
  },
  {
   "cell_type": "code",
   "execution_count": 5,
   "id": "0efa77fc-9f8e-4bae-ae44-8cee7c436bfa",
   "metadata": {
    "tags": []
   },
   "outputs": [],
   "source": [
    "df['Date'] = pd.to_datetime(df['Date'])"
   ]
  },
  {
   "cell_type": "code",
   "execution_count": 6,
   "id": "47de694d-c1b7-4884-b433-53b4186e22b0",
   "metadata": {
    "tags": []
   },
   "outputs": [
    {
     "name": "stdout",
     "output_type": "stream",
     "text": [
      "<class 'pandas.core.frame.DataFrame'>\n",
      "RangeIndex: 536350 entries, 0 to 536349\n",
      "Data columns (total 8 columns):\n",
      " #   Column         Non-Null Count   Dtype         \n",
      "---  ------         --------------   -----         \n",
      " 0   TransactionNo  536350 non-null  object        \n",
      " 1   Date           536350 non-null  datetime64[ns]\n",
      " 2   ProductNo      536350 non-null  object        \n",
      " 3   ProductName    536350 non-null  object        \n",
      " 4   Price          536350 non-null  float64       \n",
      " 5   Quantity       536350 non-null  int64         \n",
      " 6   CustomerNo     536295 non-null  float64       \n",
      " 7   Country        536350 non-null  object        \n",
      "dtypes: datetime64[ns](1), float64(2), int64(1), object(4)\n",
      "memory usage: 32.7+ MB\n"
     ]
    }
   ],
   "source": [
    "df.info()"
   ]
  },
  {
   "cell_type": "code",
   "execution_count": 7,
   "id": "9448bd63-e4a8-4cc4-a5f1-04f6b1959469",
   "metadata": {
    "tags": []
   },
   "outputs": [
    {
     "data": {
      "text/plain": [
       "TransactionNo    0\n",
       "Date             0\n",
       "ProductNo        0\n",
       "ProductName      0\n",
       "Price            0\n",
       "Quantity         0\n",
       "CustomerNo       0\n",
       "Country          0\n",
       "dtype: int64"
      ]
     },
     "execution_count": 7,
     "metadata": {},
     "output_type": "execute_result"
    }
   ],
   "source": [
    "df.dropna(inplace=True)\n",
    "df.isnull().sum()"
   ]
  },
  {
   "cell_type": "code",
   "execution_count": 8,
   "id": "4b7b7f43-262e-4669-907c-0cf2c6e2aa16",
   "metadata": {
    "tags": []
   },
   "outputs": [
    {
     "data": {
      "text/plain": [
       "5200"
      ]
     },
     "execution_count": 8,
     "metadata": {},
     "output_type": "execute_result"
    }
   ],
   "source": [
    "df.duplicated().sum()"
   ]
  },
  {
   "cell_type": "code",
   "execution_count": 9,
   "id": "3463e6c6-a670-4b17-adb9-28f731fa3a4a",
   "metadata": {
    "tags": []
   },
   "outputs": [],
   "source": [
    "df.drop_duplicates(inplace = True)"
   ]
  },
  {
   "cell_type": "code",
   "execution_count": null,
   "id": "6aac50a9-ec62-4c99-9d31-5ccda021b6d6",
   "metadata": {
    "tags": []
   },
   "outputs": [],
   "source": [
    "df['Total'] = df['Quantity']*df['Price']\n",
    "df"
   ]
  },
  {
   "cell_type": "markdown",
   "id": "d41a6d7c-f719-46e6-8660-3c91dc6722e9",
   "metadata": {
    "tags": []
   },
   "source": [
    "### Permasalahan\n",
    "\n",
    "1. bagaimana tren penjualan setiap bulan?\n",
    "2. apa produk yang menghsilkan banyak keuntungan?\n",
    "3. produk apa yang paling populer?\n",
    "4. kebanyakan customer dari negara mana?"
   ]
  },
  {
   "cell_type": "markdown",
   "id": "68b1b163-64c8-4806-ae15-953aec8b4fb6",
   "metadata": {
    "tags": []
   },
   "source": [
    "# 1. tren penjualan setiap bulan"
   ]
  },
  {
   "cell_type": "code",
   "execution_count": null,
   "id": "246497fb-c489-4eda-9ac7-4cfd0b07ce1d",
   "metadata": {},
   "outputs": [],
   "source": [
    "df['Month'] = df['Date'].dt.to_period('M')\n",
    "df.head()"
   ]
  },
  {
   "cell_type": "code",
   "execution_count": null,
   "id": "0726a745-01c8-401a-bf98-60d7d719c0f7",
   "metadata": {
    "tags": []
   },
   "outputs": [],
   "source": [
    "monthly_trend = df.groupby(by = 'Month', as_index = False)['Total'].sum()\n",
    "monthly_trend"
   ]
  },
  {
   "cell_type": "code",
   "execution_count": null,
   "id": "2d84dc7b-b431-42f1-a97e-b45f50197508",
   "metadata": {
    "tags": []
   },
   "outputs": [],
   "source": [
    "# Mengonversi kolom 'Month' ke string\n",
    "monthly_trend['Month'] = monthly_trend['Month'].astype(str)\n",
    "    \n",
    "# Tentukan gaya dan warna plot\n",
    "sns.set(style=\"whitegrid\")\n",
    "sns.set_palette(\"pastel\")\n",
    "\n",
    "# Buat grafik garis menggunakan Seaborn\n",
    "plt.figure(figsize=(10, 6))\n",
    "sns.lineplot(x='Month', y='Total', data=monthly_trend, marker='o')\n",
    "\n",
    "# Atur label dan judul\n",
    "plt.xlabel('Bulan')\n",
    "plt.ylabel('Total Penjualan')\n",
    "plt.title('Trend Bulanan Penjualan')\n",
    "\n",
    "# Format tanggal di sumbu x (opsional)\n",
    "plt.xticks(rotation=45)\n",
    "\n",
    "# Tampilkan plot\n",
    "plt.tight_layout()\n",
    "plt.show()\n"
   ]
  },
  {
   "cell_type": "markdown",
   "id": "1a45e370-5426-40a3-9c50-e06a0cb8d572",
   "metadata": {},
   "source": [
    "kita cari tahu mengapa pada bulan 12 tahun 2019 mengalami penurunan yang sangat besar\n"
   ]
  },
  {
   "cell_type": "code",
   "execution_count": null,
   "id": "f028354d-3c47-4ba9-86d4-c7cab07a03ac",
   "metadata": {
    "tags": []
   },
   "outputs": [],
   "source": [
    "date = df[df['Date'] >= '2019-12-01']"
   ]
  },
  {
   "cell_type": "code",
   "execution_count": null,
   "id": "b629eede-1dc1-4170-890d-971f23eaf3c9",
   "metadata": {
    "tags": []
   },
   "outputs": [],
   "source": [
    "print(date['Date'].min())\n",
    "print(date['Date'].max())"
   ]
  },
  {
   "cell_type": "markdown",
   "id": "4b1cdb7f-cb0e-41f8-a2e7-16e97a770605",
   "metadata": {},
   "source": [
    "ternyata untuk bulan 12 data yang diperoleh hanya dari tanggal 1 sampai tanggal 9, maka coba kita hanya akan pilih data sebelum bulan 12 tahun 2019"
   ]
  },
  {
   "cell_type": "code",
   "execution_count": null,
   "id": "391fb073-0033-411d-91b4-d7b29f7dc720",
   "metadata": {
    "tags": []
   },
   "outputs": [],
   "source": [
    "df2 = df[df['Date'] < '2019-12-01']"
   ]
  },
  {
   "cell_type": "code",
   "execution_count": null,
   "id": "845c9d22-365c-4472-aa67-f9efb3672a1f",
   "metadata": {
    "tags": []
   },
   "outputs": [],
   "source": [
    "df2_monthly = df2.groupby(by= 'Month', as_index = False)['Total'].sum()\n",
    "df2_monthly"
   ]
  },
  {
   "cell_type": "code",
   "execution_count": null,
   "id": "6a99595c-8234-4d81-806e-5cfc43d1222b",
   "metadata": {
    "tags": []
   },
   "outputs": [],
   "source": [
    "# Mengonversi kolom 'Month' ke string\n",
    "df2_monthly['Month'] = df2_monthly['Month'].astype(str)\n",
    "    \n",
    "# Tentukan gaya dan warna plot\n",
    "sns.set(style=\"whitegrid\")\n",
    "sns.set_palette(\"pastel\")\n",
    "\n",
    "# Buat grafik garis menggunakan Seaborn\n",
    "plt.figure(figsize=(10, 6))\n",
    "sns.lineplot(x='Month', y='Total', data=df2_monthly, marker='o')\n",
    "\n",
    "# Atur label dan judul\n",
    "plt.xlabel('Bulan')\n",
    "plt.ylabel('Total Penjualan')\n",
    "plt.title('Trend Bulanan Penjualan')\n",
    "\n",
    "# Format tanggal di sumbu x (opsional)\n",
    "plt.xticks(rotation=45)\n",
    "\n",
    "# Tampilkan plot\n",
    "plt.tight_layout()\n",
    "plt.show()"
   ]
  },
  {
   "cell_type": "markdown",
   "id": "fc2c1c6c-f7c5-485c-ac2e-e6c5080cddc7",
   "metadata": {},
   "source": [
    "jadi, dimulai dari bulan 8 penjualan naik signifikan sampai pada bulan 11"
   ]
  },
  {
   "cell_type": "markdown",
   "id": "d7d2c4cd-ecea-469e-a156-9ec43e156826",
   "metadata": {},
   "source": [
    "# 2. produk yang menghasilkan banyak keuntungan"
   ]
  },
  {
   "cell_type": "code",
   "execution_count": null,
   "id": "4a04d319-13e2-4235-b644-c95a6c3421b8",
   "metadata": {
    "tags": []
   },
   "outputs": [],
   "source": [
    "qtytotal = df.groupby(by= 'ProductName', as_index= False)['Total'].sum().sort_values('Total', ascending = False).head(10)\n",
    "qtytotal"
   ]
  },
  {
   "cell_type": "code",
   "execution_count": null,
   "id": "5213043f-a688-4256-acf4-080b751fce63",
   "metadata": {
    "tags": []
   },
   "outputs": [],
   "source": [
    "sns.set(style=\"whitegrid\")\n",
    "sns.set_palette(\"pastel\")\n",
    "\n",
    "# Buat grafik garis menggunakan Seaborn\n",
    "plt.figure(figsize=(10, 6))\n",
    "sns.barplot(x='Total', y='ProductName', data=qtytotal)\n",
    "\n",
    "# Atur label dan judul\n",
    "plt.xlabel('Total')\n",
    "plt.ylabel('Product')\n",
    "plt.title('Produk Menguntungkan')\n",
    "\n",
    "# Tampilkan plot\n",
    "plt.tight_layout()\n",
    "plt.show()"
   ]
  },
  {
   "cell_type": "markdown",
   "id": "8b0324a9-b439-496a-a844-440fd0489b4a",
   "metadata": {},
   "source": [
    "# 3. Produk yang paling populer"
   ]
  },
  {
   "cell_type": "code",
   "execution_count": null,
   "id": "9db8e16e-839e-45bf-9637-e0805b6a3dcb",
   "metadata": {
    "tags": []
   },
   "outputs": [],
   "source": [
    "popular = df.groupby(by = 'ProductName', as_index = False)['Quantity'].sum().sort_values('Quantity', ascending = False).head(10)\n",
    "popular"
   ]
  },
  {
   "cell_type": "code",
   "execution_count": null,
   "id": "74e90431-06a9-45e6-ad5e-e29cf5b79681",
   "metadata": {
    "tags": []
   },
   "outputs": [],
   "source": [
    "sns.set(style=\"whitegrid\")\n",
    "sns.set_palette(\"pastel\")\n",
    "\n",
    "# Buat grafik garis menggunakan Seaborn\n",
    "plt.figure(figsize=(10, 6))\n",
    "sns.barplot(x='Quantity', y='ProductName', data=popular)\n",
    "\n",
    "# Atur label dan judul\n",
    "plt.xlabel('Quantity')\n",
    "plt.ylabel('Product')\n",
    "plt.title('Produk Populer')\n",
    "\n",
    "# Tampilkan plot\n",
    "plt.tight_layout()\n",
    "plt.show()"
   ]
  },
  {
   "cell_type": "markdown",
   "id": "6f1ce340-2512-4d25-9a78-9cbef23581ec",
   "metadata": {},
   "source": [
    "# 4. Negara paling menguntungkan"
   ]
  },
  {
   "cell_type": "code",
   "execution_count": null,
   "id": "930022ee-0b4b-4e1e-b3d9-a83cb3215d78",
   "metadata": {
    "tags": []
   },
   "outputs": [],
   "source": [
    "country = df.groupby(by = 'Country', as_index = False)['Total'].sum().sort_values('Total', ascending = False).head(10)\n",
    "country"
   ]
  },
  {
   "cell_type": "code",
   "execution_count": null,
   "id": "3b7bf829-fd68-4cc3-b6dc-2b4ab3db0ae4",
   "metadata": {},
   "outputs": [],
   "source": [
    "sns.set(style=\"whitegrid\")\n",
    "sns.set_palette(\"pastel\")\n",
    "\n",
    "# Buat grafik garis menggunakan Seaborn\n",
    "plt.figure(figsize=(10, 6))\n",
    "sns.barplot(x='Total', y='Country', data=country)\n",
    "\n",
    "# Atur label dan judul\n",
    "plt.xlabel('Total')\n",
    "plt.ylabel('Country')\n",
    "plt.title('Negara Paling Menguntungkan')\n",
    "\n",
    "# Tampilkan plot\n",
    "plt.tight_layout()\n",
    "plt.show()"
   ]
  },
  {
   "cell_type": "markdown",
   "id": "03601f1d-0d6e-4983-8544-1979f694742f",
   "metadata": {},
   "source": [
    "# 5. Produk yang Paling banyak di Retur"
   ]
  },
  {
   "cell_type": "code",
   "execution_count": null,
   "id": "cc9148c7-a02b-41c8-b9dc-2c412086ebd7",
   "metadata": {
    "tags": []
   },
   "outputs": [],
   "source": [
    "retur = df[df['Quantity'] < 0]"
   ]
  },
  {
   "cell_type": "code",
   "execution_count": null,
   "id": "a1eb4d42-8bee-47a8-940b-123726ddf54e",
   "metadata": {
    "tags": []
   },
   "outputs": [],
   "source": [
    "prodretur = retur.groupby(by = 'ProductName', as_index = False)['Quantity'].sum().sort_values('Quantity').head(10)\n",
    "prodretur"
   ]
  },
  {
   "cell_type": "code",
   "execution_count": null,
   "id": "690b3e07-829b-4642-b548-48de51f11b2f",
   "metadata": {
    "tags": []
   },
   "outputs": [],
   "source": [
    "sns.set(style=\"whitegrid\")\n",
    "sns.set_palette(\"pastel\")\n",
    "\n",
    "# Buat grafik garis menggunakan Seaborn\n",
    "plt.figure(figsize=(10, 6))\n",
    "sns.barplot(x='Quantity', y='ProductName', data=prodretur)\n",
    "\n",
    "# Atur label dan judul\n",
    "plt.xlabel('Total')\n",
    "plt.ylabel('Produk')\n",
    "plt.title('Produk Paling Banyak Diretur')\n",
    "\n",
    "# Tampilkan plot\n",
    "plt.tight_layout()\n",
    "plt.show()"
   ]
  },
  {
   "cell_type": "code",
   "execution_count": null,
   "id": "0ec5b1d9-fd14-42cd-a047-39598115b123",
   "metadata": {},
   "outputs": [],
   "source": [
    "df_rfm = df2[df2['Quantity'] > 0]"
   ]
  },
  {
   "cell_type": "code",
   "execution_count": null,
   "id": "a7a739d7-2b21-4fb7-9c2d-eb3e2a995ae4",
   "metadata": {
    "tags": []
   },
   "outputs": [],
   "source": [
    "df_rfm.head(10)"
   ]
  },
  {
   "cell_type": "code",
   "execution_count": null,
   "id": "6b96aa56-5298-4a7e-90e2-3fdfa6d6903f",
   "metadata": {
    "tags": []
   },
   "outputs": [],
   "source": [
    "import datetime as dt\n",
    "NOW = dt.datetime(2019,12,1)"
   ]
  },
  {
   "cell_type": "code",
   "execution_count": null,
   "id": "52020be8-655a-484f-90cd-b52fbc4b6582",
   "metadata": {
    "tags": []
   },
   "outputs": [],
   "source": [
    "rfmTable = df_rfm.groupby('CustomerNo', as_index = False).agg({'Date': lambda x: (NOW - x.max()).days, 'TransactionNo': lambda x: len(x),'Total': lambda x: x.sum()})\n",
    "rfmTable['Date'] = rfmTable['Date'].astype(int)\n",
    "rfmTable.rename(columns={'Date': 'recency', \n",
    "                         'TransactionNo': 'frequency',\n",
    "                       'Total': 'monetary_value'}, inplace=True)"
   ]
  },
  {
   "cell_type": "code",
   "execution_count": null,
   "id": "1536df49-3b67-4c1a-b4ab-148dac00b3cb",
   "metadata": {
    "tags": []
   },
   "outputs": [],
   "source": [
    "rfmTable"
   ]
  },
  {
   "cell_type": "code",
   "execution_count": null,
   "id": "66a0b581-29af-479e-93ad-001aef89fdad",
   "metadata": {
    "tags": []
   },
   "outputs": [],
   "source": [
    "def RScore(x,p,d):\n",
    "    if x <= d[p][0.25]:\n",
    "        return 4\n",
    "    elif x <= d[p][0.50]:\n",
    "        return 3\n",
    "    elif x <= d[p][0.75]: \n",
    "        return 2\n",
    "    else:\n",
    "        return 1\n",
    "    \n",
    "    \n",
    "# Arguments (x = value, p = recency, monetary_value, frequency, k = quartiles dict)\n",
    "\n",
    "#higher value of frequency and monetary lead to a good consumer. here higher value = 1 in reverse way.\n",
    "\n",
    "def FMScore(x,p,d):\n",
    "    if x <= d[p][0.25]:\n",
    "        return 1\n",
    "    elif x <= d[p][0.50]:\n",
    "        return 2\n",
    "    elif x <= d[p][0.75]: \n",
    "        return 3\n",
    "    else:\n",
    "        return 4"
   ]
  },
  {
   "cell_type": "code",
   "execution_count": null,
   "id": "1c3b7216-7c49-405c-a287-209461b8a825",
   "metadata": {
    "tags": []
   },
   "outputs": [],
   "source": [
    "quantile = rfmTable.quantile(q=[0.25,0.5,0.75])\n",
    "quantile"
   ]
  },
  {
   "cell_type": "code",
   "execution_count": null,
   "id": "a2ad139a-a25c-49e7-9f74-3dbf6b8eb574",
   "metadata": {
    "tags": []
   },
   "outputs": [],
   "source": [
    "rfmTable['mscore'] = rfmTable['monetary_value'].apply(FMScore, args = ('monetary_value', quantile))\n",
    "rfmTable['fscore'] = rfmTable['frequency'].apply(FMScore, args = ('frequency', quantile))\n",
    "rfmTable['rscore'] = rfmTable['recency'].apply(RScore, args = ('recency', quantile))"
   ]
  },
  {
   "cell_type": "code",
   "execution_count": null,
   "id": "9e227706-9bdd-497d-a485-0853c452c2bf",
   "metadata": {
    "tags": []
   },
   "outputs": [],
   "source": [
    "rfmTable"
   ]
  },
  {
   "cell_type": "code",
   "execution_count": null,
   "id": "4e041faf-2d2c-46e3-a9e6-dd542f24eac1",
   "metadata": {},
   "outputs": [],
   "source": []
  },
  {
   "cell_type": "code",
   "execution_count": null,
   "id": "5139474a-b0cf-4da2-8590-42dd2e9df6f2",
   "metadata": {
    "tags": []
   },
   "outputs": [],
   "source": [
    "rfmTable['RFMScore'] = rfmTable['rscore'].map(str) + rfmTable['fscore'].map(str) + rfmTable['mscore'].map(str) "
   ]
  },
  {
   "cell_type": "code",
   "execution_count": null,
   "id": "cb742fc6-935a-413b-81d9-37d3cca7f842",
   "metadata": {
    "tags": []
   },
   "outputs": [],
   "source": [
    "rfmTable.head()"
   ]
  },
  {
   "cell_type": "code",
   "execution_count": null,
   "id": "8bcc361f-c1f5-4077-9146-edb7c10ca701",
   "metadata": {
    "tags": []
   },
   "outputs": [],
   "source": [
    "def segmentation(rscore, fscore, mscore):\n",
    "    if rscore == 4 and fscore == 4 and mscore == 4:\n",
    "        return 'Champions'\n",
    "    elif rscore >= 3 and fscore >= 3 and mscore >= 3:\n",
    "        return 'Loyal Customers'\n",
    "    elif rscore >= 3 and fscore >= 2 and mscore >= 2:\n",
    "        return 'Potential Loyalists'\n",
    "    elif rscore <= 2 and fscore <= 2 and mscore <= 2:\n",
    "        return 'Need Attention'\n",
    "    elif rscore <= 1 and fscore <= 1 and mscore <= 1:\n",
    "        return 'Lost'\n",
    "    else:\n",
    "        return 'At Risk'"
   ]
  },
  {
   "cell_type": "code",
   "execution_count": null,
   "id": "febc8691-cedb-4402-aab7-6bec3100d71a",
   "metadata": {
    "tags": []
   },
   "outputs": [],
   "source": [
    "rfmTable['Segment'] = rfmTable.apply(lambda x: segmentation(x['rscore'], x['fscore'], x['mscore']), axis=1)"
   ]
  },
  {
   "cell_type": "code",
   "execution_count": null,
   "id": "da92bc31-dbd6-484b-b780-738d4556d89b",
   "metadata": {
    "tags": []
   },
   "outputs": [],
   "source": [
    "rfmTable.head()"
   ]
  },
  {
   "cell_type": "code",
   "execution_count": null,
   "id": "8b31bfa3-294d-4c25-9699-a1f10d1de8dd",
   "metadata": {
    "tags": []
   },
   "outputs": [],
   "source": [
    "plt.figure(figsize=(10, 6))\n",
    "sns.countplot(x='Segment', data=rfmTable)\n",
    "\n",
    "# Atur label dan judul\n",
    "plt.xlabel('Segmentasi')\n",
    "plt.ylabel('Total')\n",
    "plt.title('Segmentasi Customer')\n",
    "\n",
    "# Tampilkan plot\n",
    "plt.tight_layout()"
   ]
  },
  {
   "cell_type": "code",
   "execution_count": null,
   "id": "ebc287c6-3d2f-48ec-8cfa-3d4d88bbac9a",
   "metadata": {
    "tags": []
   },
   "outputs": [],
   "source": [
    "segment_summary = rfmTable.groupby('Segment').describe()"
   ]
  },
  {
   "cell_type": "code",
   "execution_count": null,
   "id": "87f84d3d-77a2-47f0-ad3b-184f73502929",
   "metadata": {
    "tags": []
   },
   "outputs": [],
   "source": [
    "segment_summary"
   ]
  },
  {
   "cell_type": "code",
   "execution_count": null,
   "id": "4d77ae0e-1be6-47b8-a748-0c9324ce31e5",
   "metadata": {
    "tags": []
   },
   "outputs": [],
   "source": [
    "rfmTable['Segment'].value_counts()"
   ]
  },
  {
   "cell_type": "code",
   "execution_count": null,
   "id": "24b2a9a8-7825-492c-b2f4-d6ab47f955e6",
   "metadata": {
    "tags": []
   },
   "outputs": [],
   "source": [
    "rfmcountry"
   ]
  },
  {
   "cell_type": "code",
   "execution_count": null,
   "id": "4c260665-dfc8-4f6e-9e66-442c56d2d2ec",
   "metadata": {
    "tags": []
   },
   "outputs": [],
   "source": [
    "rfmcountry.to_csv('rfmcountry.csv', index = False)"
   ]
  },
  {
   "cell_type": "code",
   "execution_count": null,
   "id": "a2806684-053f-44bc-b557-4a54488fd230",
   "metadata": {
    "tags": []
   },
   "outputs": [],
   "source": [
    "count = rfmcountry.groupby(['Country','Segment'], as_index = False).size()"
   ]
  },
  {
   "cell_type": "code",
   "execution_count": null,
   "id": "7dc5071a-d9ae-4643-aa82-433eab109ccf",
   "metadata": {
    "tags": []
   },
   "outputs": [],
   "source": [
    "count.head(100)"
   ]
  },
  {
   "cell_type": "code",
   "execution_count": null,
   "id": "1f398fcd-100d-45af-b415-2b05a899820f",
   "metadata": {},
   "outputs": [],
   "source": []
  }
 ],
 "metadata": {
  "kernelspec": {
   "display_name": "Python 3 (ipykernel)",
   "language": "python",
   "name": "python3"
  },
  "language_info": {
   "codemirror_mode": {
    "name": "ipython",
    "version": 3
   },
   "file_extension": ".py",
   "mimetype": "text/x-python",
   "name": "python",
   "nbconvert_exporter": "python",
   "pygments_lexer": "ipython3",
   "version": "3.11.4"
  }
 },
 "nbformat": 4,
 "nbformat_minor": 5
}
